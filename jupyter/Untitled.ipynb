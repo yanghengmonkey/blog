{
 "cells": [
  {
   "cell_type": "code",
   "execution_count": 61,
   "metadata": {},
   "outputs": [],
   "source": [
    "import numpy as np\n",
    "import struct"
   ]
  },
  {
   "cell_type": "code",
   "execution_count": 40,
   "metadata": {},
   "outputs": [],
   "source": [
    "f16_mat_a = np.zeros((16,16), dtype=np.float16)\n",
    "f16_mat_a[:, 0: 4] = 0\n",
    "f16_mat_a[:, 4: 8] = 1\n",
    "f16_mat_a[:, 8:12] = 2\n",
    "f16_mat_a[:,12:16] = 3"
   ]
  },
  {
   "cell_type": "code",
   "execution_count": 42,
   "metadata": {},
   "outputs": [],
   "source": [
    "f16_mat_b = np.zeros((16,16), dtype=np.float16)\n",
    "f16_mat_b[ 0: 4,:] = 0\n",
    "f16_mat_b[ 4: 8,:] = 1\n",
    "f16_mat_b[ 8:12,:] = 2\n",
    "f16_mat_b[12:16,:] = 3"
   ]
  },
  {
   "cell_type": "code",
   "execution_count": 171,
   "metadata": {},
   "outputs": [],
   "source": [
    "def float_to_hex(f):\n",
    "    return hex(struct.unpack('<I', struct.pack('<f',f))[0])"
   ]
  },
  {
   "cell_type": "code",
   "execution_count": 161,
   "metadata": {},
   "outputs": [],
   "source": [
    "def float_to_hex(f):\n",
    "    return hex(f)"
   ]
  },
  {
   "cell_type": "code",
   "execution_count": 172,
   "metadata": {},
   "outputs": [
    {
     "data": {
      "text/plain": [
       "'0x3f800000'"
      ]
     },
     "execution_count": 172,
     "metadata": {},
     "output_type": "execute_result"
    }
   ],
   "source": [
    "a = 1.0\n",
    "float_to_hex(a)"
   ]
  },
  {
   "cell_type": "code",
   "execution_count": 155,
   "metadata": {},
   "outputs": [],
   "source": [
    "def fp16_2d_to_str( src ):\n",
    "    str_msg = ''\n",
    "    for row in range( src.shape[1] ):\n",
    "        for col in range( src.shape[0] ):\n",
    "            str_msg += float_to_hex(src[row][col]) + ' '\n",
    "            if col == src.shape[0] - 1:\n",
    "                str_msg += \"\\n\"\n",
    "            \n",
    "    return str_msg"
   ]
  },
  {
   "cell_type": "code",
   "execution_count": 156,
   "metadata": {},
   "outputs": [
    {
     "data": {
      "text/plain": [
       "'0000 0000 0000 0000 3c00 3c00 3c00 3c00 4000 4000 4000 4000 4200 4200 4200 4200 \\n0000 0000 0000 0000 3c00 3c00 3c00 3c00 4000 4000 4000 4000 4200 4200 4200 4200 \\n0000 0000 0000 0000 3c00 3c00 3c00 3c00 4000 4000 4000 4000 4200 4200 4200 4200 \\n0000 0000 0000 0000 3c00 3c00 3c00 3c00 4000 4000 4000 4000 4200 4200 4200 4200 \\n0000 0000 0000 0000 3c00 3c00 3c00 3c00 4000 4000 4000 4000 4200 4200 4200 4200 \\n0000 0000 0000 0000 3c00 3c00 3c00 3c00 4000 4000 4000 4000 4200 4200 4200 4200 \\n0000 0000 0000 0000 3c00 3c00 3c00 3c00 4000 4000 4000 4000 4200 4200 4200 4200 \\n0000 0000 0000 0000 3c00 3c00 3c00 3c00 4000 4000 4000 4000 4200 4200 4200 4200 \\n0000 0000 0000 0000 3c00 3c00 3c00 3c00 4000 4000 4000 4000 4200 4200 4200 4200 \\n0000 0000 0000 0000 3c00 3c00 3c00 3c00 4000 4000 4000 4000 4200 4200 4200 4200 \\n0000 0000 0000 0000 3c00 3c00 3c00 3c00 4000 4000 4000 4000 4200 4200 4200 4200 \\n0000 0000 0000 0000 3c00 3c00 3c00 3c00 4000 4000 4000 4000 4200 4200 4200 4200 \\n0000 0000 0000 0000 3c00 3c00 3c00 3c00 4000 4000 4000 4000 4200 4200 4200 4200 \\n0000 0000 0000 0000 3c00 3c00 3c00 3c00 4000 4000 4000 4000 4200 4200 4200 4200 \\n0000 0000 0000 0000 3c00 3c00 3c00 3c00 4000 4000 4000 4000 4200 4200 4200 4200 \\n0000 0000 0000 0000 3c00 3c00 3c00 3c00 4000 4000 4000 4000 4200 4200 4200 4200 \\n'"
      ]
     },
     "execution_count": 156,
     "metadata": {},
     "output_type": "execute_result"
    }
   ],
   "source": [
    "fp16_2d_to_str(f16_mat_a)"
   ]
  },
  {
   "cell_type": "code",
   "execution_count": 101,
   "metadata": {},
   "outputs": [],
   "source": [
    "fh = open('matrix_f16', 'w')"
   ]
  },
  {
   "cell_type": "code",
   "execution_count": 102,
   "metadata": {},
   "outputs": [
    {
     "ename": "ValueError",
     "evalue": "Expected 1D or 2D array, got 0D array instead",
     "output_type": "error",
     "traceback": [
      "\u001b[0;31m---------------------------------------------------------------------------\u001b[0m",
      "\u001b[0;31mValueError\u001b[0m                                Traceback (most recent call last)",
      "\u001b[0;32m<ipython-input-102-2ed82d1679a3>\u001b[0m in \u001b[0;36m<module>\u001b[0;34m\u001b[0m\n\u001b[0;32m----> 1\u001b[0;31m \u001b[0mnp\u001b[0m\u001b[0;34m.\u001b[0m\u001b[0msavetxt\u001b[0m\u001b[0;34m(\u001b[0m\u001b[0mfh\u001b[0m\u001b[0;34m,\u001b[0m \u001b[0mu32_mat_a\u001b[0m\u001b[0;34m,\u001b[0m \u001b[0mheader\u001b[0m\u001b[0;34m=\u001b[0m\u001b[0;34m'u32_mat_a'\u001b[0m\u001b[0;34m)\u001b[0m\u001b[0;34m\u001b[0m\u001b[0;34m\u001b[0m\u001b[0m\n\u001b[0m",
      "\u001b[0;32m~/.local/lib/python3.6/site-packages/numpy/lib/npyio.py\u001b[0m in \u001b[0;36msavetxt\u001b[0;34m(fname, X, fmt, delimiter, newline, header, footer, comments, encoding)\u001b[0m\n\u001b[1;32m   1333\u001b[0m         \u001b[0;32mif\u001b[0m \u001b[0mX\u001b[0m\u001b[0;34m.\u001b[0m\u001b[0mndim\u001b[0m \u001b[0;34m==\u001b[0m \u001b[0;36m0\u001b[0m \u001b[0;32mor\u001b[0m \u001b[0mX\u001b[0m\u001b[0;34m.\u001b[0m\u001b[0mndim\u001b[0m \u001b[0;34m>\u001b[0m \u001b[0;36m2\u001b[0m\u001b[0;34m:\u001b[0m\u001b[0;34m\u001b[0m\u001b[0;34m\u001b[0m\u001b[0m\n\u001b[1;32m   1334\u001b[0m             raise ValueError(\n\u001b[0;32m-> 1335\u001b[0;31m                 \"Expected 1D or 2D array, got %dD array instead\" % X.ndim)\n\u001b[0m\u001b[1;32m   1336\u001b[0m         \u001b[0;32melif\u001b[0m \u001b[0mX\u001b[0m\u001b[0;34m.\u001b[0m\u001b[0mndim\u001b[0m \u001b[0;34m==\u001b[0m \u001b[0;36m1\u001b[0m\u001b[0;34m:\u001b[0m\u001b[0;34m\u001b[0m\u001b[0;34m\u001b[0m\u001b[0m\n\u001b[1;32m   1337\u001b[0m             \u001b[0;31m# Common case -- 1d array of numbers\u001b[0m\u001b[0;34m\u001b[0m\u001b[0;34m\u001b[0m\u001b[0;34m\u001b[0m\u001b[0m\n",
      "\u001b[0;31mValueError\u001b[0m: Expected 1D or 2D array, got 0D array instead"
     ]
    }
   ],
   "source": [
    "np.savetxt(fh, u32_mat_a, header='u32_mat_a')"
   ]
  },
  {
   "cell_type": "code",
   "execution_count": 99,
   "metadata": {},
   "outputs": [],
   "source": [
    "fh.close()"
   ]
  },
  {
   "cell_type": "code",
   "execution_count": null,
   "metadata": {},
   "outputs": [],
   "source": []
  }
 ],
 "metadata": {
  "kernelspec": {
   "display_name": "Python 3",
   "language": "python",
   "name": "python3"
  },
  "language_info": {
   "codemirror_mode": {
    "name": "ipython",
    "version": 3
   },
   "file_extension": ".py",
   "mimetype": "text/x-python",
   "name": "python",
   "nbconvert_exporter": "python",
   "pygments_lexer": "ipython3",
   "version": "3.6.7"
  }
 },
 "nbformat": 4,
 "nbformat_minor": 2
}
