{
 "cells": [
  {
   "cell_type": "code",
   "execution_count": 15,
   "metadata": {
    "collapsed": false
   },
   "outputs": [],
   "source": [
    "from __future__ import absolute_import\n",
    "from __future__ import print_function\n",
    "import numpy as np\n",
    "np.random.seed(1337)  # for reproducibility\n",
    "\n",
    "from keras.preprocessing import sequence\n",
    "from keras.optimizers import SGD, RMSprop, Adagrad\n",
    "from keras.utils import np_utils\n",
    "from keras.models import Sequential\n",
    "from keras.layers.core import Dense, Dropout, Activation\n",
    "from keras.layers.embeddings import Embedding\n",
    "from keras.layers.recurrent import LSTM, GRU\n",
    "from keras.datasets import imdb\n",
    "\n",
    "from theano import function"
   ]
  },
  {
   "cell_type": "code",
   "execution_count": null,
   "metadata": {
    "collapsed": true
   },
   "outputs": [],
   "source": [
    "'''\n",
    "    This code was borrowed and modified from https://github.com/fchollet/keras/blob/master/examples/imdb_lstm.py\n",
    "    \n",
    "    Train a LSTM on the IMDB sentiment classification task.\n",
    "    The dataset is actually too small for LSTM to be of any advantage\n",
    "    compared to simpler, much faster methods such as TF-IDF+LogReg.\n",
    "    Notes:\n",
    "    - RNNs are tricky. Choice of batch size is important,\n",
    "    choice of loss and optimizer is critical, etc.\n",
    "    Some configurations won't converge.\n",
    "    - LSTM loss decrease patterns during training can be quite different\n",
    "    from what you see with CNNs/MLPs/etc.\n",
    "    GPU command:\n",
    "        THEANO_FLAGS=mode=FAST_RUN,device=gpu,floatX=float32 python imdb_lstm.py\n",
    "'''"
   ]
  },
  {
   "cell_type": "code",
   "execution_count": 23,
   "metadata": {
    "collapsed": false
   },
   "outputs": [
    {
     "name": "stdout",
     "output_type": "stream",
     "text": [
      "Loading data...\n",
      "20000 train sequences\n",
      "5000 test sequences\n",
      "Pad sequences (samples x time)\n",
      "X_train shape: (20000, 100)\n",
      "X_test shape: (5000, 100)\n"
     ]
    }
   ],
   "source": [
    "max_features = 20000\n",
    "maxlen = 100  # cut texts after this number of words (among top max_features most common words)\n",
    "batch_size = 32\n",
    "\n",
    "print(\"Loading data...\")\n",
    "(X_train, y_train), (X_test, y_test) = imdb.load_data(nb_words=max_features, test_split=0.2)\n",
    "print(len(X_train), 'train sequences')\n",
    "print(len(X_test), 'test sequences')\n",
    "\n",
    "print(\"Pad sequences (samples x time)\")\n",
    "X_train = sequence.pad_sequences(X_train, maxlen=maxlen)\n",
    "X_test = sequence.pad_sequences(X_test, maxlen=maxlen)\n",
    "print('X_train shape:', X_train.shape)\n",
    "print('X_test shape:', X_test.shape)"
   ]
  },
  {
   "cell_type": "code",
   "execution_count": null,
   "metadata": {
    "collapsed": true
   },
   "outputs": [],
   "source": [
    "'''\n",
    "Sample reviews from the full IMDb movie reviews dataset.\n",
    "\n",
    "Negative review examples:\n",
    "* Unfortunately it stays absurd the WHOLE time with no general narrative eventually making it just too off putting.\n",
    "* Even those from the era should be turned off.\n",
    "* The cryptic dialogue would make Shakespeare seem easy to a third grader.\n",
    "\n",
    "Positive review examples:\n",
    "* I didn't know this came from Canada, but it is very good. Very good!\n",
    "* I liked this movie a lot. It really intrigued me how Deanna and Alicia became friends over such a tragedy\n",
    "* When I saw the elaborate DVD box for this and the dreadful Red Queen figurine, \n",
    "  I felt certain I was in for a big disappointment, but surprise, surprise, I loved it. \n",
    "'''"
   ]
  },
  {
   "cell_type": "code",
   "execution_count": 6,
   "metadata": {
    "collapsed": false
   },
   "outputs": [
    {
     "data": {
      "text/plain": [
       "[1,\n",
       " 20,\n",
       " 28,\n",
       " 716,\n",
       " 48,\n",
       " 495,\n",
       " 79,\n",
       " 27,\n",
       " 493,\n",
       " 8,\n",
       " 5067,\n",
       " 7,\n",
       " 50,\n",
       " 5,\n",
       " 4682,\n",
       " 13075,\n",
       " 10,\n",
       " 5,\n",
       " 852,\n",
       " 157,\n",
       " 11,\n",
       " 5,\n",
       " 1716,\n",
       " 3351,\n",
       " 10,\n",
       " 5,\n",
       " 500,\n",
       " 7308,\n",
       " 6,\n",
       " 33,\n",
       " 256,\n",
       " 41,\n",
       " 13610,\n",
       " 7,\n",
       " 17,\n",
       " 23,\n",
       " 48,\n",
       " 1537,\n",
       " 3504,\n",
       " 26,\n",
       " 269,\n",
       " 929,\n",
       " 18,\n",
       " 2,\n",
       " 7,\n",
       " 2,\n",
       " 4284,\n",
       " 8,\n",
       " 105,\n",
       " 5,\n",
       " 2,\n",
       " 182,\n",
       " 314,\n",
       " 38,\n",
       " 98,\n",
       " 103,\n",
       " 7,\n",
       " 36,\n",
       " 2184,\n",
       " 246,\n",
       " 360,\n",
       " 7,\n",
       " 19,\n",
       " 396,\n",
       " 17,\n",
       " 26,\n",
       " 269,\n",
       " 929,\n",
       " 18,\n",
       " 1769,\n",
       " 493,\n",
       " 6,\n",
       " 116,\n",
       " 7,\n",
       " 105,\n",
       " 5,\n",
       " 575,\n",
       " 182,\n",
       " 27,\n",
       " 5,\n",
       " 1002,\n",
       " 1085,\n",
       " 130,\n",
       " 62,\n",
       " 17,\n",
       " 24,\n",
       " 89,\n",
       " 17,\n",
       " 13,\n",
       " 381,\n",
       " 1421,\n",
       " 8,\n",
       " 5167,\n",
       " 7,\n",
       " 5,\n",
       " 2723,\n",
       " 38,\n",
       " 325,\n",
       " 7,\n",
       " 17,\n",
       " 23,\n",
       " 93,\n",
       " 9,\n",
       " 156,\n",
       " 252,\n",
       " 19,\n",
       " 235,\n",
       " 20,\n",
       " 28,\n",
       " 5,\n",
       " 104,\n",
       " 76,\n",
       " 7,\n",
       " 17,\n",
       " 169,\n",
       " 35,\n",
       " 14764,\n",
       " 17,\n",
       " 23,\n",
       " 1460,\n",
       " 7,\n",
       " 36,\n",
       " 2184,\n",
       " 934,\n",
       " 56,\n",
       " 2134,\n",
       " 6,\n",
       " 17,\n",
       " 891,\n",
       " 214,\n",
       " 11,\n",
       " 5,\n",
       " 1552,\n",
       " 6,\n",
       " 92,\n",
       " 6,\n",
       " 33,\n",
       " 256,\n",
       " 82,\n",
       " 7]"
      ]
     },
     "execution_count": 6,
     "metadata": {},
     "output_type": "execute_result"
    }
   ],
   "source": [
    "X_train[0]"
   ]
  },
  {
   "cell_type": "code",
   "execution_count": 7,
   "metadata": {
    "collapsed": false
   },
   "outputs": [
    {
     "name": "stdout",
     "output_type": "stream",
     "text": [
      "Pad sequences (samples x time)\n",
      "X_train shape: (20000, 100)\n",
      "X_test shape: (5000, 100)\n",
      "Build model...\n"
     ]
    },
    {
     "name": "stderr",
     "output_type": "stream",
     "text": [
      "/Users/eder/anaconda/envs/packit/lib/python2.7/site-packages/theano/gof/cmodule.py:297: RuntimeWarning: numpy.ndarray size changed, may indicate binary incompatibility\n",
      "  rval = __import__(module_name, {}, {}, [module_name])\n"
     ]
    }
   ],
   "source": [
    "print('Build model...')\n",
    "model = Sequential()\n",
    "model.add(Embedding(max_features, 128, input_length=maxlen))\n",
    "\n",
    "model.add(LSTM(128))  # try using a GRU instead, for fun\n",
    "model.add(Dropout(0.5))\n",
    "model.add(Dense(1))\n",
    "model.add(Activation('sigmoid'))\n",
    "\n",
    "# try using different optimizers and different optimizer configs\n",
    "model.compile(loss='binary_crossentropy', optimizer='adam', class_mode=\"binary\")"
   ]
  },
  {
   "cell_type": "code",
   "execution_count": 16,
   "metadata": {
    "collapsed": false
   },
   "outputs": [],
   "source": [
    "inp = model.get_input()\n",
    "embedding = model.layers[0].get_output()\n",
    "F = function([inp], embedding, allow_input_downcast=True)"
   ]
  },
  {
   "cell_type": "code",
   "execution_count": 22,
   "metadata": {
    "collapsed": false
   },
   "outputs": [
    {
     "name": "stdout",
     "output_type": "stream",
     "text": [
      "[[  269   929    18     2     7     2  4284     8   105     5     2   182\n",
      "    314    38    98   103     7    36  2184   246   360     7    19   396\n",
      "     17    26   269   929    18  1769   493     6   116     7   105     5\n",
      "    575   182    27     5  1002  1085   130    62    17    24    89    17\n",
      "     13   381  1421     8  5167     7     5  2723    38   325     7    17\n",
      "     23    93     9   156   252    19   235    20    28     5   104    76\n",
      "      7    17   169    35 14764    17    23  1460     7    36  2184   934\n",
      "     56  2134     6    17   891   214    11     5  1552     6    92     6\n",
      "     33   256    82     7]]\n",
      "(1, 100)\n",
      "[[[ 0.03351435 -0.0307366  -0.03750445 ...,  0.03813024 -0.01615332\n",
      "   -0.04805795]\n",
      "  [-0.00785761 -0.01286278 -0.04133901 ...,  0.02919266 -0.01766369\n",
      "    0.00309219]\n",
      "  [ 0.00047992  0.00507891  0.04045267 ..., -0.00836205 -0.03382651\n",
      "   -0.00756425]\n",
      "  ..., \n",
      "  [ 0.04124896 -0.03509159 -0.0377143  ...,  0.00091615  0.03342613\n",
      "   -0.04362203]\n",
      "  [ 0.01263671  0.02567435 -0.01735003 ...,  0.0049542   0.03310351\n",
      "    0.01981889]\n",
      "  [-0.02906248  0.01312838 -0.04076585 ..., -0.0441469  -0.01563235\n",
      "    0.01836089]]]\n",
      "(1, 100, 128)\n"
     ]
    }
   ],
   "source": [
    "print(X_train[:1])\n",
    "print(X_train[:1].shape)\n",
    "print(F(X_train[:1]))\n",
    "print(F(X_train[:1]).shape)"
   ]
  },
  {
   "cell_type": "code",
   "execution_count": null,
   "metadata": {
    "collapsed": true
   },
   "outputs": [],
   "source": [
    "print(\"Train...\")\n",
    "model.fit(X_train, y_train, batch_size=batch_size, nb_epoch=4, validation_data=(X_test, y_test), show_accuracy=True)\n",
    "score, acc = model.evaluate(X_test, y_test, batch_size=batch_size, show_accuracy=True)\n",
    "print('Test score:', score)\n",
    "print('Test accuracy:', acc)"
   ]
  }
 ],
 "metadata": {
  "kernelspec": {
   "display_name": "Python 2",
   "language": "python",
   "name": "python2"
  },
  "language_info": {
   "codemirror_mode": {
    "name": "ipython",
    "version": 2
   },
   "file_extension": ".py",
   "mimetype": "text/x-python",
   "name": "python",
   "nbconvert_exporter": "python",
   "pygments_lexer": "ipython2",
   "version": "2.7.10"
  }
 },
 "nbformat": 4,
 "nbformat_minor": 0
}
