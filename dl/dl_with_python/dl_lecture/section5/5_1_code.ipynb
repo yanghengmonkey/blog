{
 "cells": [
  {
   "cell_type": "markdown",
   "metadata": {},
   "source": [
    "# Fibonacci sequence in pure Python with for loops"
   ]
  },
  {
   "cell_type": "code",
   "execution_count": 1,
   "metadata": {
    "collapsed": true
   },
   "outputs": [],
   "source": [
    "from __future__ import print_function"
   ]
  },
  {
   "cell_type": "code",
   "execution_count": 8,
   "metadata": {
    "collapsed": false
   },
   "outputs": [
    {
     "name": "stdout",
     "output_type": "stream",
     "text": [
      "[1, 2, 3, 5, 8, 13, 21, 34, 55, 89]\n"
     ]
    }
   ],
   "source": [
    "length = 10 # n_steps\n",
    "\n",
    "h_tm2 = 0   #\n",
    "h_tm1 = 1   # outputs_info\n",
    "\n",
    "seq = []\n",
    "\n",
    "def step(h_tm1, h_tm2):\n",
    "    h_t = h_tm1 + h_tm2\n",
    "    return h_t, h_tm1\n",
    "\n",
    "for i in range(length):\n",
    "    h_tm1, h_tm2 = step(h_tm1, h_tm2)\n",
    "    seq.append(h_tm1)\n",
    "    \n",
    "print(seq)"
   ]
  },
  {
   "cell_type": "markdown",
   "metadata": {},
   "source": [
    "# ... in Theano"
   ]
  },
  {
   "cell_type": "code",
   "execution_count": 4,
   "metadata": {
    "collapsed": true
   },
   "outputs": [],
   "source": [
    "from theano import tensor as T, scan, function"
   ]
  },
  {
   "cell_type": "code",
   "execution_count": 6,
   "metadata": {
    "collapsed": false
   },
   "outputs": [],
   "source": [
    "'''\n",
    "scan(_step, sequences, outputs_info, non_sequences [, n_steps, truncate_gradient])\n",
    "\n",
    "sequences: for loop iterated vector, if not provided, scan requires `n_steps`\n",
    "    python analogy:\n",
    "    for s in sequences:\n",
    "        do_something(s)\n",
    "    \n",
    "    for i in range(n_steps)\n",
    "        do_something(i)\n",
    "                   \n",
    "outputs_info: initial values of the outputs of the step function\n",
    "\n",
    "non_sequences: values that are kept fixed throught the entire loop\n",
    "\n",
    "n_steps: int, how many loop (necessary when there are no \"sequences\")\n",
    "\n",
    "truncate_gradient: depth of the backpropagation through time (i.e backpropagation through the for loop).\n",
    "'''\n",
    "\n",
    "\n",
    "h1, h2 = T.scalars('h_tm1', 'h_tm2')\n",
    "\n",
    "def _step(h_tm1, h_tm2):\n",
    "    h_t = h_tm1 + h_tm2\n",
    "    return h_t, h_tm1\n",
    "\n",
    "outputs, updates = scan(_step, sequences=[], outputs_info=[h1, h2], n_steps=length)\n",
    "\n",
    "F = function([h2, h1], outputs)"
   ]
  },
  {
   "cell_type": "code",
   "execution_count": 13,
   "metadata": {
    "collapsed": false
   },
   "outputs": [
    {
     "data": {
      "text/plain": [
       "[array([  1.,   2.,   3.,   5.,   8.,  13.,  21.,  34.,  55.,  89.]),\n",
       " array([  1.,   1.,   2.,   3.,   5.,   8.,  13.,  21.,  34.,  55.])]"
      ]
     },
     "execution_count": 13,
     "metadata": {},
     "output_type": "execute_result"
    }
   ],
   "source": [
    "F(0, 1)"
   ]
  },
  {
   "cell_type": "code",
   "execution_count": null,
   "metadata": {
    "collapsed": true
   },
   "outputs": [],
   "source": []
  }
 ],
 "metadata": {
  "kernelspec": {
   "display_name": "Python 2",
   "language": "python",
   "name": "python2"
  },
  "language_info": {
   "codemirror_mode": {
    "name": "ipython",
    "version": 2
   },
   "file_extension": ".py",
   "mimetype": "text/x-python",
   "name": "python",
   "nbconvert_exporter": "python",
   "pygments_lexer": "ipython2",
   "version": "2.7.10"
  }
 },
 "nbformat": 4,
 "nbformat_minor": 0
}
